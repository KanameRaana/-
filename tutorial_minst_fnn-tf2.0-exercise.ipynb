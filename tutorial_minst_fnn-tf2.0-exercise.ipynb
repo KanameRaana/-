{
 "cells": [
  {
   "cell_type": "markdown",
   "metadata": {},
   "source": [
    "## 准备数据"
   ]
  },
  {
   "cell_type": "code",
   "execution_count": 1,
   "metadata": {},
   "outputs": [
    {
     "name": "stderr",
     "output_type": "stream",
     "text": [
      "d:\\Python3.10\\lib\\site-packages\\scipy\\__init__.py:169: UserWarning: A NumPy version >=1.18.5 and <1.26.0 is required for this version of SciPy (detected version 1.26.4\n",
      "  warnings.warn(f\"A NumPy version >={np_minversion} and <{np_maxversion}\"\n"
     ]
    }
   ],
   "source": [
    "import os\n",
    "import numpy as np\n",
    "import tensorflow as tf\n",
    "from tensorflow import keras\n",
    "from tensorflow.keras import layers, optimizers, datasets\n",
    "\n",
    "os.environ['TF_CPP_MIN_LOG_LEVEL'] = '2'  # or any {'0', '1', '2'}\n",
    "\n",
    "def mnist_dataset():\n",
    "    (x, y), (x_test, y_test) = datasets.mnist.load_data()\n",
    "    #normalize\n",
    "    x = x/255.0\n",
    "    x_test = x_test/255.0\n",
    "    \n",
    "    return (x, y), (x_test, y_test)"
   ]
  },
  {
   "cell_type": "code",
   "execution_count": 2,
   "metadata": {},
   "outputs": [
    {
     "name": "stdout",
     "output_type": "stream",
     "text": [
      "[(1, 'a'), (2, 'b'), (3, 'c'), (4, 'd')]\n"
     ]
    }
   ],
   "source": [
    "print(list(zip([1, 2, 3, 4], ['a', 'b', 'c', 'd'])))"
   ]
  },
  {
   "cell_type": "markdown",
   "metadata": {},
   "source": [
    "## 建立模型"
   ]
  },
  {
   "cell_type": "code",
   "execution_count": 3,
   "metadata": {},
   "outputs": [],
   "source": [
    "class myModel:\n",
    "    def __init__(self):\n",
    "        ####################\n",
    "        '''声明模型对应的参数'''\n",
    "        super(myModel, self).__init__()\n",
    "        self.W1 = tf.Variable(tf.random.normal([28*28, 14*14]))\n",
    "        self.b1 = tf.Variable(tf.zeros([14*14]))\n",
    "        self.W2 = tf.Variable(tf.random.normal([14*14, 49]))\n",
    "        self.b2 = tf.Variable(tf.zeros([49]))\n",
    "        ####################\n",
    "\n",
    "    def __call__(self, x):\n",
    "        ####################\n",
    "        '''实现模型函数体，返回未归一化的logits'''\n",
    "        flat_x = tf.reshape(x, shape=[-1, 28*28])\n",
    "        tmp_x = tf.matmul(flat_x, self.W1) + self.b1\n",
    "        logits = tf.matmul(tmp_x, self.W2) + self.b2\n",
    "        ####################\n",
    "        return logits\n",
    "        \n",
    "model = myModel()\n",
    "\n",
    "optimizer = optimizers.Adam()"
   ]
  },
  {
   "cell_type": "markdown",
   "metadata": {},
   "source": [
    "## 计算 loss"
   ]
  },
  {
   "cell_type": "code",
   "execution_count": 4,
   "metadata": {},
   "outputs": [],
   "source": [
    "@tf.function\n",
    "def compute_loss(logits, labels):\n",
    "    return tf.reduce_mean(\n",
    "        tf.nn.sparse_softmax_cross_entropy_with_logits(\n",
    "            logits=logits, labels=labels))\n",
    "\n",
    "@tf.function\n",
    "def compute_accuracy(logits, labels):\n",
    "    predictions = tf.argmax(logits, axis=1)\n",
    "    return tf.reduce_mean(tf.cast(tf.equal(predictions, labels), tf.float32))\n",
    "\n",
    "@tf.function\n",
    "def train_one_step(model, optimizer, x, y):\n",
    "    with tf.GradientTape() as tape:\n",
    "        logits = model(x)\n",
    "        loss = compute_loss(logits, y)\n",
    "\n",
    "    # compute gradient\n",
    "    trainable_vars = [model.W1, model.W2, model.b1, model.b2]\n",
    "    grads = tape.gradient(loss, trainable_vars)\n",
    "    for g, v in zip(grads, trainable_vars):\n",
    "        v.assign_sub(0.01*g)\n",
    "\n",
    "    accuracy = compute_accuracy(logits, y)\n",
    "\n",
    "    # loss and accuracy is scalar tensor\n",
    "    return loss, accuracy\n",
    "\n",
    "@tf.function\n",
    "def test(model, x, y):\n",
    "    logits = model(x)\n",
    "    loss = compute_loss(logits, y)\n",
    "    accuracy = compute_accuracy(logits, y)\n",
    "    return loss, accuracy"
   ]
  },
  {
   "cell_type": "markdown",
   "metadata": {},
   "source": [
    "## 实际训练"
   ]
  },
  {
   "cell_type": "code",
   "execution_count": 5,
   "metadata": {},
   "outputs": [
    {
     "name": "stdout",
     "output_type": "stream",
     "text": [
      "epoch 0 : loss 318.69473 ; accuracy 0.0015333333\n",
      "epoch 1 : loss 294.7839 ; accuracy 0.00245\n",
      "epoch 2 : loss 273.765 ; accuracy 0.0043166666\n",
      "epoch 3 : loss 254.86037 ; accuracy 0.0072333333\n",
      "epoch 4 : loss 237.80647 ; accuracy 0.010983333\n",
      "epoch 5 : loss 222.3723 ; accuracy 0.0157\n",
      "epoch 6 : loss 208.39343 ; accuracy 0.02135\n",
      "epoch 7 : loss 195.72684 ; accuracy 0.027966667\n",
      "epoch 8 : loss 184.24907 ; accuracy 0.035566665\n",
      "epoch 9 : loss 173.81866 ; accuracy 0.043283332\n",
      "epoch 10 : loss 164.29564 ; accuracy 0.051283333\n",
      "epoch 11 : loss 155.6019 ; accuracy 0.0603\n",
      "epoch 12 : loss 147.65257 ; accuracy 0.07038333\n",
      "epoch 13 : loss 140.35762 ; accuracy 0.079833336\n",
      "epoch 14 : loss 133.6527 ; accuracy 0.09025\n",
      "epoch 15 : loss 127.4668 ; accuracy 0.1004\n",
      "epoch 16 : loss 121.72938 ; accuracy 0.111216664\n",
      "epoch 17 : loss 116.39854 ; accuracy 0.1226\n",
      "epoch 18 : loss 111.43238 ; accuracy 0.13408333\n",
      "epoch 19 : loss 106.80765 ; accuracy 0.14626667\n",
      "epoch 20 : loss 102.491035 ; accuracy 0.15928334\n",
      "epoch 21 : loss 98.4608 ; accuracy 0.17128333\n",
      "epoch 22 : loss 94.68734 ; accuracy 0.1838\n",
      "epoch 23 : loss 91.15777 ; accuracy 0.19593333\n",
      "epoch 24 : loss 87.84799 ; accuracy 0.20926666\n",
      "epoch 25 : loss 84.74683 ; accuracy 0.22196667\n",
      "epoch 26 : loss 81.83347 ; accuracy 0.23426667\n",
      "epoch 27 : loss 79.09216 ; accuracy 0.24615\n",
      "epoch 28 : loss 76.5094 ; accuracy 0.25743333\n",
      "epoch 29 : loss 74.0687 ; accuracy 0.26781666\n",
      "epoch 30 : loss 71.76111 ; accuracy 0.27888334\n",
      "epoch 31 : loss 69.58084 ; accuracy 0.28921667\n",
      "epoch 32 : loss 67.517876 ; accuracy 0.29921666\n",
      "epoch 33 : loss 65.563675 ; accuracy 0.30931666\n",
      "epoch 34 : loss 63.70907 ; accuracy 0.31848332\n",
      "epoch 35 : loss 61.946632 ; accuracy 0.32743335\n",
      "epoch 36 : loss 60.271534 ; accuracy 0.3369\n",
      "epoch 37 : loss 58.67991 ; accuracy 0.34561667\n",
      "epoch 38 : loss 57.16647 ; accuracy 0.35486665\n",
      "epoch 39 : loss 55.72919 ; accuracy 0.36355\n",
      "epoch 40 : loss 54.36216 ; accuracy 0.37201667\n",
      "epoch 41 : loss 53.06301 ; accuracy 0.38091666\n",
      "epoch 42 : loss 51.83008 ; accuracy 0.38916665\n",
      "epoch 43 : loss 50.657143 ; accuracy 0.39665\n",
      "epoch 44 : loss 49.5395 ; accuracy 0.4041\n",
      "epoch 45 : loss 48.472042 ; accuracy 0.41181666\n",
      "epoch 46 : loss 47.45219 ; accuracy 0.41936666\n",
      "epoch 47 : loss 46.478603 ; accuracy 0.42596668\n",
      "epoch 48 : loss 45.546738 ; accuracy 0.4326\n",
      "epoch 49 : loss 44.65374 ; accuracy 0.43908334\n",
      "test loss 43.5154 ; accuracy 0.4482\n"
     ]
    }
   ],
   "source": [
    "train_data, test_data = mnist_dataset()\n",
    "for epoch in range(50):\n",
    "    loss, accuracy = train_one_step(model, optimizer, \n",
    "                                    tf.constant(train_data[0], dtype=tf.float32), \n",
    "                                    tf.constant(train_data[1], dtype=tf.int64))\n",
    "    print('epoch', epoch, ': loss', loss.numpy(), '; accuracy', accuracy.numpy())\n",
    "loss, accuracy = test(model, \n",
    "                      tf.constant(test_data[0], dtype=tf.float32), \n",
    "                      tf.constant(test_data[1], dtype=tf.int64))\n",
    "\n",
    "print('test loss', loss.numpy(), '; accuracy', accuracy.numpy())"
   ]
  }
 ],
 "metadata": {
  "kernelspec": {
   "display_name": "Python 3",
   "language": "python",
   "name": "python3"
  },
  "language_info": {
   "codemirror_mode": {
    "name": "ipython",
    "version": 3
   },
   "file_extension": ".py",
   "mimetype": "text/x-python",
   "name": "python",
   "nbconvert_exporter": "python",
   "pygments_lexer": "ipython3",
   "version": "3.10.5"
  }
 },
 "nbformat": 4,
 "nbformat_minor": 2
}
